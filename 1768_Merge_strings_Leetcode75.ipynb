{
  "nbformat": 4,
  "nbformat_minor": 0,
  "metadata": {
    "colab": {
      "provenance": [],
      "authorship_tag": "ABX9TyPkYFlgPw9ib7cBIZnW+7eR",
      "include_colab_link": true
    },
    "kernelspec": {
      "name": "python3",
      "display_name": "Python 3"
    },
    "language_info": {
      "name": "python"
    }
  },
  "cells": [
    {
      "cell_type": "markdown",
      "metadata": {
        "id": "view-in-github",
        "colab_type": "text"
      },
      "source": [
        "<a href=\"https://colab.research.google.com/github/unikill066/leeting/blob/main/1768_Merge_strings_Leetcode75.ipynb\" target=\"_parent\"><img src=\"https://colab.research.google.com/assets/colab-badge.svg\" alt=\"Open In Colab\"/></a>"
      ]
    },
    {
      "cell_type": "code",
      "execution_count": null,
      "metadata": {
        "colab": {
          "base_uri": "https://localhost:8080/",
          "height": 87
        },
        "id": "RqgHAIzZxxut",
        "outputId": "4375e2e9-3776-4395-f576-3977e2609f68"
      },
      "outputs": [
        {
          "output_type": "stream",
          "name": "stdout",
          "text": [
            "a p\n",
            "b q\n",
            "c r\n"
          ]
        },
        {
          "output_type": "execute_result",
          "data": {
            "text/plain": [
              "'apbqcr'"
            ],
            "application/vnd.google.colaboratory.intrinsic+json": {
              "type": "string"
            }
          },
          "metadata": {},
          "execution_count": 15
        }
      ],
      "source": [
        "class Solution:\n",
        "    def mergeAlternately(self, word1: str, word2: str) -> str:\n",
        "        result = ''\n",
        "        diff = abs(len(word2) - len(word1))\n",
        "        if len(word1) > len(word2):\n",
        "           print(1)\n",
        "           word2 = word2 + (' ' * diff)\n",
        "        elif len(word2) > len(word1):\n",
        "           word1 = word1 + (' ' * diff)\n",
        "           print(2)\n",
        "        for i, j in zip(word1, word2):\n",
        "            print(i, j)\n",
        "            result = result + i + j\n",
        "        return \"\".join(result.split(' '))\n",
        "\n",
        "Solution().mergeAlternately('abc', 'pqr')"
      ]
    },
    {
      "cell_type": "code",
      "source": [
        "Solution().mergeAlternately('ab', 'cdef')"
      ],
      "metadata": {
        "colab": {
          "base_uri": "https://localhost:8080/",
          "height": 122
        },
        "id": "g617OH8Y0CMR",
        "outputId": "596434e3-d4e8-4d07-bfda-5c4d0b3267ee"
      },
      "execution_count": null,
      "outputs": [
        {
          "output_type": "stream",
          "name": "stdout",
          "text": [
            "2\n",
            "a c\n",
            "b d\n",
            "  e\n",
            "  f\n"
          ]
        },
        {
          "output_type": "execute_result",
          "data": {
            "text/plain": [
              "'acbdef'"
            ],
            "application/vnd.google.colaboratory.intrinsic+json": {
              "type": "string"
            }
          },
          "metadata": {},
          "execution_count": 16
        }
      ]
    },
    {
      "cell_type": "code",
      "source": [
        "# Good sol\n",
        "class Solution:\n",
        "    def mergeAlternately(self, word1: str, word2: str) -> str:\n",
        "        merged = []\n",
        "\n",
        "        for a, b in zip(word1, word2):\n",
        "            print(a, b)\n",
        "            merged.append(a + b)\n",
        "\n",
        "        merged.append(word1[len(word2):])\n",
        "        merged.append(word2[len(word1):])\n",
        "\n",
        "        return merged\n",
        "\n",
        "Solution().mergeAlternately('ab', 'cdef')"
      ],
      "metadata": {
        "colab": {
          "base_uri": "https://localhost:8080/"
        },
        "id": "FHric6Qm5MWr",
        "outputId": "97a6b808-17b3-4a5f-d8e3-59513471664f"
      },
      "execution_count": null,
      "outputs": [
        {
          "output_type": "stream",
          "name": "stdout",
          "text": [
            "a c\n",
            "b d\n"
          ]
        },
        {
          "output_type": "execute_result",
          "data": {
            "text/plain": [
              "['ac', 'bd', '', 'ef']"
            ]
          },
          "metadata": {},
          "execution_count": 21
        }
      ]
    }
  ]
}